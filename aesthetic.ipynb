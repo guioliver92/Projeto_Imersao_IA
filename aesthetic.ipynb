{
  "nbformat": 4,
  "nbformat_minor": 0,
  "metadata": {
    "colab": {
      "provenance": [],
      "authorship_tag": "ABX9TyNweaDAFH5qL1RQouSIRVt4",
      "include_colab_link": true
    },
    "kernelspec": {
      "name": "python3",
      "display_name": "Python 3"
    },
    "language_info": {
      "name": "python"
    }
  },
  "cells": [
    {
      "cell_type": "markdown",
      "metadata": {
        "id": "view-in-github",
        "colab_type": "text"
      },
      "source": [
        "<a href=\"https://colab.research.google.com/github/guioliver92/Projeto_Imersao_IA/blob/main/aesthetic.ipynb\" target=\"_parent\"><img src=\"https://colab.research.google.com/assets/colab-badge.svg\" alt=\"Open In Colab\"/></a>"
      ]
    },
    {
      "cell_type": "code",
      "source": [
        "#At the command line, only need to run once to install the package via pip:\n",
        "!pip install -q -U google-generativeai"
      ],
      "metadata": {
        "id": "6aN6IyRyvjXq"
      },
      "execution_count": 54,
      "outputs": []
    },
    {
      "cell_type": "code",
      "source": [
        "import google.generativeai as genai\n",
        "\n",
        "genai.configure(api_key=\"API_KEY\")"
      ],
      "metadata": {
        "id": "uijIpTJwv4r8"
      },
      "execution_count": 55,
      "outputs": []
    },
    {
      "cell_type": "code",
      "source": [
        "# Set up the model\n",
        "generation_config = {\n",
        "  \"temperature\": 1,\n",
        "  \"top_p\": 0.95,\n",
        "  \"top_k\": 0,\n",
        "  \"max_output_tokens\": 8192,\n",
        "}\n",
        "\n",
        "safety_settings = [\n",
        "  {\n",
        "    \"category\": \"HARM_CATEGORY_HARASSMENT\",\n",
        "    \"threshold\": \"BLOCK_MEDIUM_AND_ABOVE\"\n",
        "  },\n",
        "  {\n",
        "    \"category\": \"HARM_CATEGORY_HATE_SPEECH\",\n",
        "    \"threshold\": \"BLOCK_MEDIUM_AND_ABOVE\"\n",
        "  },\n",
        "  {\n",
        "    \"category\": \"HARM_CATEGORY_SEXUALLY_EXPLICIT\",\n",
        "    \"threshold\": \"BLOCK_MEDIUM_AND_ABOVE\"\n",
        "  },\n",
        "  {\n",
        "    \"category\": \"HARM_CATEGORY_DANGEROUS_CONTENT\",\n",
        "    \"threshold\": \"BLOCK_MEDIUM_AND_ABOVE\"\n",
        "  },\n",
        "]"
      ],
      "metadata": {
        "id": "WbDTodP0wSpv"
      },
      "execution_count": 56,
      "outputs": []
    },
    {
      "cell_type": "code",
      "source": [
        "system_instruction = \"Aja como um nutricionista especialista em dietas com pratos simples. Responda somente perguntas relacionadas a nutrição, dietas, instruções de receitas e cronograma nutricional. Seja flexível na negociação do cronograma nutricional. Baseado no peso e altura calcule o IMC, em seguida, sugira qual dieta é mais adequada para seguir dieta para bulking ou dieta para cutting, utilize as referências: DIETA BULKING Carboidrato: 5g/Kg Proteína: 1.5g/Kg Gordura: 1g/Kg, DIETA CUTTING Carboidrato: 2g/Kg Proteína: 2.2g/Kg Gordura: 1g/Kg. Informe quantas gramas de proteína, carbonato e gordura deve ser ingerido por dia. Em seguida pergunte se a pessoa está de acordo em passar para o próximo step, se a resposta foi não tire as dúvidas e assim que receber uma resposta positiva crie uma lista de mercado para a criação do cronograma nutricional da semana, e pergunte se gostaria de realizar alguma alteração e altere se possível. Em seguida pergunte se gostaria de ajuda com alguma receita, se sim pergunte sobre qual e forneça uma receita simples e saborosa.    \"\n"
      ],
      "metadata": {
        "id": "hmG--RCqwgC7"
      },
      "execution_count": 57,
      "outputs": []
    },
    {
      "cell_type": "code",
      "source": [
        "model = genai.GenerativeModel(model_name=\"gemini-1.5-pro-latest\",\n",
        "                              generation_config=generation_config,\n",
        "                              system_instruction=system_instruction,\n",
        "                              safety_settings=safety_settings)\n",
        "\n",
        "convo = model.start_chat()"
      ],
      "metadata": {
        "id": "6dTdsxMSwoC8"
      },
      "execution_count": 58,
      "outputs": []
    },
    {
      "cell_type": "code",
      "source": [
        "print(\"Olá, aqui é o Rodrigo seu nutricionista virtual \\neu vou fazer você fica com um físico AESTHETIC!\")\n",
        "print(\"Vamos começar por uma rápida avaliação, calculando seu IMC.\")\n",
        "\n",
        "def obter_informacoes_usuario():\n",
        "  \"\"\"\n",
        "  Coleta e valida as informações do usuário (nome, altura, peso e sexo).\n",
        "\n",
        "  Returns:\n",
        "    tuple: Uma tupla contendo nome (str), altura (float), peso (float) e sexo (str).\n",
        "           Se houver erro na validação, retorna None.\n",
        "  \"\"\"\n",
        "\n",
        "  nome = input(\"Como você gostaria que eu te chamasse? \")\n",
        "\n",
        "  while True:\n",
        "    try:\n",
        "      altura = float(input(f\"Então {nome}, qual a sua altura? \"))\n",
        "      if altura <= 0:\n",
        "        raise ValueError(\"Altura deve ser um valor positivo.\")\n",
        "      break\n",
        "    except ValueError:\n",
        "      print(\"Altura inválida. Insira um valor numérico positivo.\")\n",
        "\n",
        "  while True:\n",
        "    try:\n",
        "      peso = float(input(\"Qual o seu peso? \"))\n",
        "      if peso <= 0:\n",
        "        raise ValueError(\"Peso deve ser um valor positivo.\")\n",
        "      break\n",
        "    except ValueError:\n",
        "      print(\"Peso inválido. Insira um valor numérico positivo.\")\n",
        "\n",
        "  while True:\n",
        "    sexo = input(\"Qual o seu sexo (Masculino/Feminino)? \").strip().capitalize().upper()\n",
        "    if sexo in [\"MASCULINO\", \"FEMININO\"]:\n",
        "      break\n",
        "    else:\n",
        "      print(\"Sexo inválido. Insira 'Masculino' ou 'Feminino'.\")\n",
        "\n",
        "  return nome, altura, peso, sexo\n",
        "\n",
        "# Chamando a função para obter e validar as informações\n",
        "informacoes = obter_informacoes_usuario()\n",
        "\n",
        "# Verificando se as informações foram coletadas corretamente\n",
        "if informacoes is not None:\n",
        "  nome, altura, peso, sexo = informacoes\n",
        "  #print(f\"Informações coletadas: Nome: {nome}, Altura: {altura}m, Peso: {peso}kg, Sexo: {sexo}\")\n",
        "else:\n",
        "  print(\"Erro ao coletar as informações do usuário.\")\n",
        "\n",
        "user_input = f\"Meu nome é {nome}, minha altura é {altura}m, meu peso{peso}kg, meu {sexo}. Baseado no peso e altura e sexo, calcule o IMC, mas nao precisa mostrar todo o cálculo. Em seguida, sugira qual dieta é mais adequada para seguir dieta para bulking ou dieta para cutting, utilize as referências: DIETA BULKING Carboidrato: 5g/Kg Proteína: 1.5g/Kg Gordura: 1g/Kg, DIETA CUTTING Carboidrato: 2g/Kg Proteína: 2.2g/Kg Gordura: 1g/Kg. Informe quantas gramas de proteína, carbonato e gordura deve ser ingerido por dia. Em seguida pergunte se estou de acordo em passar para o próximo step, se a resposta foi não tire as dúvidas e assim que receber uma resposta positiva crie uma lista de mercado para a criação do cronograma nutricional da semana, e pergunte se gostaria de realizar alguma alteração e altere se possível. Em seguida pergunte se gostaria de ajuda com alguma receita, se sim pergunte sobre qual e forneça uma receita simples e saborosa.\"\n",
        "convo.send_message(user_input)\n",
        "print(convo.last.text)\n",
        "\n",
        "# Função para continuar a conversa\n",
        "def continuar_conversa():\n",
        "  user_input = input(\"R: \")\n",
        "  convo.send_message(user_input)\n",
        "  print(convo.last.text)\n",
        "  continuar_conversa()  # Chama a função novamente para continuar a conversa\n",
        "\n",
        "# Inicia a conversa contínua\n",
        "continuar_conversa()"
      ],
      "metadata": {
        "id": "qEq-2sybRy0b"
      },
      "execution_count": null,
      "outputs": []
    }
  ]
}