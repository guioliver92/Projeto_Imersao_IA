{
  "nbformat": 4,
  "nbformat_minor": 0,
  "metadata": {
    "colab": {
      "provenance": [],
      "authorship_tag": "ABX9TyOPEG3U8FyptddZ9HNaPx5D",
      "include_colab_link": true
    },
    "kernelspec": {
      "name": "python3",
      "display_name": "Python 3"
    },
    "language_info": {
      "name": "python"
    }
  },
  "cells": [
    {
      "cell_type": "markdown",
      "metadata": {
        "id": "view-in-github",
        "colab_type": "text"
      },
      "source": [
        "<a href=\"https://colab.research.google.com/github/guioliver92/Projeto_Imersao_IA/blob/main/Aesthetic.ipynb\" target=\"_parent\"><img src=\"https://colab.research.google.com/assets/colab-badge.svg\" alt=\"Open In Colab\"/></a>"
      ]
    },
    {
      "cell_type": "code",
      "source": [
        "#At the command line, only need to run once to install the package via pip:\n",
        "!pip install -q -U google-generativeai"
      ],
      "metadata": {
        "id": "6aN6IyRyvjXq"
      },
      "execution_count": 1,
      "outputs": []
    },
    {
      "cell_type": "code",
      "source": [
        "import google.generativeai as genai\n",
        "from google.colab import widgets\n",
        "\n",
        "genai.configure(api_key=\"secret_KEY\")"
      ],
      "metadata": {
        "id": "uijIpTJwv4r8"
      },
      "execution_count": 30,
      "outputs": []
    },
    {
      "cell_type": "code",
      "source": [
        "# Set up the model\n",
        "generation_config = {\n",
        "  \"temperature\": 1,\n",
        "  \"top_p\": 0.95,\n",
        "  \"top_k\": 0,\n",
        "  \"max_output_tokens\": 8192,\n",
        "}\n",
        "\n",
        "safety_settings = [\n",
        "  {\n",
        "    \"category\": \"HARM_CATEGORY_HARASSMENT\",\n",
        "    \"threshold\": \"BLOCK_MEDIUM_AND_ABOVE\"\n",
        "  },\n",
        "  {\n",
        "    \"category\": \"HARM_CATEGORY_HATE_SPEECH\",\n",
        "    \"threshold\": \"BLOCK_MEDIUM_AND_ABOVE\"\n",
        "  },\n",
        "  {\n",
        "    \"category\": \"HARM_CATEGORY_SEXUALLY_EXPLICIT\",\n",
        "    \"threshold\": \"BLOCK_MEDIUM_AND_ABOVE\"\n",
        "  },\n",
        "  {\n",
        "    \"category\": \"HARM_CATEGORY_DANGEROUS_CONTENT\",\n",
        "    \"threshold\": \"BLOCK_MEDIUM_AND_ABOVE\"\n",
        "  },\n",
        "]"
      ],
      "metadata": {
        "id": "WbDTodP0wSpv"
      },
      "execution_count": 3,
      "outputs": []
    },
    {
      "cell_type": "code",
      "source": [
        "system_instruction = \"Aja como um nutricionista especialista em dietas com pratos simples. Responda somente perguntas relacionadas a nutrição, dietas, instruções de receitas e cronograma nutricional. Seja flexível na negociação do cronograma nutricional. Baseado no peso e altura calcule o IMC, em seguida, sugira qual dieta é mais adequada para seguir dieta para bulking ou dieta para cutting, utilize as referências: DIETA BULKING Carboidrato: 5g/Kg Proteína: 1.5g/Kg Gordura: 1g/Kg, DIETA CUTTING Carboidrato: 2g/Kg Proteína: 2.2g/Kg Gordura: 1g/Kg. Informe quantas gramas de proteína, carbonato e gordura deve ser ingerido por dia. Em seguida pergunte se a pessoa está de acordo em passar para o próximo step, se a resposta foi não tire as dúvidas e assim que receber uma resposta positiva crie uma lista de mercado para a criação do cronograma nutricional da semana, e pergunte se gostaria de realizar alguma alteração e altere se possível. Em seguida pergunte se gostaria de ajuda com alguma receita, se sim pergunte sobre qual e forneça uma receita simples e saborosa.    \"\n"
      ],
      "metadata": {
        "id": "hmG--RCqwgC7"
      },
      "execution_count": 17,
      "outputs": []
    },
    {
      "cell_type": "code",
      "source": [
        "model = genai.GenerativeModel(model_name=\"gemini-1.5-pro-latest\",\n",
        "                              generation_config=generation_config,\n",
        "                              system_instruction=system_instruction,\n",
        "                              safety_settings=safety_settings)\n"
      ],
      "metadata": {
        "id": "6dTdsxMSwoC8"
      },
      "execution_count": 5,
      "outputs": []
    },
    {
      "cell_type": "code",
      "source": [
        "\"\"\"\"\n",
        "altura = float(input(\"Digite sua altura: \"))\n",
        "peso = float(input(\"Digite seu peso: \"))\n",
        "sexo = input(\"Digite M para sexo Massculino ou F para Feminino: \").upper()\n",
        "\n",
        "IMC =\n",
        "\"\"\""
      ],
      "metadata": {
        "id": "V48CqugNyQ3A",
        "colab": {
          "base_uri": "https://localhost:8080/"
        },
        "outputId": "4aadc16f-ee1c-48ac-b6fa-6ba276e52e1a"
      },
      "execution_count": 9,
      "outputs": [
        {
          "name": "stdout",
          "output_type": "stream",
          "text": [
            "Digite sua altura: 1.74\n",
            "Digite seu peso: 70\n",
            "Digite M para sexo Massculino ou F para Feminino: M\n"
          ]
        }
      ]
    },
    {
      "cell_type": "code",
      "execution_count": null,
      "metadata": {
        "id": "8grc_iYwvdl0"
      },
      "outputs": [],
      "source": [
        "\"\"\"\n",
        "convo = model.start_chat(history=[\n",
        "\n",
        "  {\n",
        "    \"role\": \"user\",\n",
        "    \"parts\": [\"Baseado no peso e altura calcule o IMC, exemplo:\\nAltura:1.74m\\nPeso: 65kg\\nSexo: Masculino\\n\\nEm seguida, sugira qual dieta é mais adequada para seguir dieta para bulking ou dieta para cutting, utilize as referências abaixo:\\nDIETA BULKING\\nCarboidrato: 5g/Kg\\nProteína: 1.5g/Kg\\nGordura: 1g/Kg\\n\\nDIETA CUTTING\\nCarboidrato: 2g/Kg\\nProteína: 2.2g/Kg\\nGordura: 1g/Kg\\n\\nInforme quantas gramas de proteína, carbonato e gordura deve ser ingerido por dia.\\n\\nEm seguida pergunte se a pessoa está de acordo em passar para o próximo step, se a resposta foi não tire as dúvidas e assim que receber uma resposta positiva crie uma lista de mercado para a criação do cronograma nutricional da semana, e pergunte se gostaria de realizar alguma alteração e altere se possível. \\n\\nEm seguida pergunte se gostaria de ajuda com alguma receita, se sim pergunte sobre qual e forneça uma receita simples e saborosa.\"]\n",
        "  },\n",
        "  {\n",
        "    \"role\": \"model\",\n",
        "    \"parts\": [\"## Calculando seu IMC\\n\\nCom base nas informações fornecidas, vamos calcular seu IMC:\\n\\n**IMC = Peso (kg) / Altura (m)²**\\n\\nIMC = 65 kg / (1,74 m)² \\n\\nIMC = 65 kg / 3,0276 m²\\n\\n**IMC ≈ 21,47**\\n\\nCom base no seu IMC, você está dentro da faixa de peso considerada normal (entre 18,5 e 24,9). \\n\\n## Recomendação de Dieta\\n\\nComo seu IMC está dentro da normalidade, a escolha entre bulking ou cutting dependerá dos seus objetivos. \\n\\n* **Bulking:** Indicado para quem deseja ganhar massa muscular.\\n* **Cutting:** Indicado para quem deseja perder gordura corporal. \\n\\nQual seria seu objetivo? \\n\\n## Cálculo de Macronutrientes\\n\\nAssim que você definir seu objetivo, posso calcular a quantidade de proteínas, carboidratos e gorduras que você deve ingerir por dia.  \\n\\n**Exemplo para Bulking (com base no seu peso):**\\n\\n*   Carboidratos: 5g/kg x 65kg = 325g por dia\\n*   Proteínas: 1.5g/kg x 65kg = 97.5g por dia \\n*   Gorduras: 1g/kg x 65kg = 65g por dia\\n\\n**Exemplo para Cutting (com base no seu peso):**\\n\\n*   Carboidratos: 2g/kg x 65kg = 130g por dia\\n*   Proteínas: 2.2g/kg x 65kg = 143g por dia \\n*   Gorduras: 1g/kg x 65kg = 65g por dia \\n\\nPodemos prosseguir para o próximo passo?\"]\n",
        "  },\n",
        "  {\n",
        "    \"role\": \"user\",\n",
        "    \"parts\": [\"Meu objetivo é ganhar massa.\"]\n",
        "  },\n",
        "  {\n",
        "    \"role\": \"model\",\n",
        "    \"parts\": [\"## Dieta para Bulking\\n\\nÓtimo! Então, seguiremos com a dieta para bulking. Com base no seu peso, você deverá consumir diariamente:\\n\\n*   **Carboidratos:** 325g \\n*   **Proteínas:** 97.5g\\n*   **Gorduras:** 65g \\n\\n## Lista de Compras\\n\\nPara criarmos um cronograma nutricional para a semana, preciso saber se você está de acordo com a lista de compras a seguir, ou se prefere fazer alguma alteração:\\n\\n**Proteínas:**\\n\\n*   Peito de frango\\n*   Carne moída magra\\n*   Peixe (salmão, atum, sardinha)\\n*   Ovos\\n*   Queijo cottage\\n*   Iogurte grego\\n\\n**Carboidratos:**\\n\\n*   Arroz integral\\n*   Batata doce\\n*   Aveia\\n*   Pão integral\\n*   Macarrão integral\\n*   Frutas (banana, maçã, pera, laranja)\\n\\n**Gorduras:**\\n\\n*   Azeite de oliva\\n*   Abacate\\n*   Oleaginosas (castanhas, amêndoas, nozes)\\n*   Sementes (chia, linhaça)\\n\\nGostaria de fazer alguma alteração na lista?\"]\n",
        "  },\n",
        "  {\n",
        "    \"role\": \"user\",\n",
        "    \"parts\": [\"sim, altere o queijo cottage e chia e linhaça\"]\n",
        "  },\n",
        "  {\n",
        "    \"role\": \"model\",\n",
        "    \"parts\": [\"Sem problemas! Podemos substituir o queijo cottage, chia e linhaça por outras opções. \\n\\n**Substituições:**\\n\\n*   **Queijo cottage:** Tofu ou queijo minas frescal\\n*   **Chia e linhaça:**  Amendoim ou pasta de amendoim \\n\\n**Lista de Compras Atualizada:**\\n\\n**Proteínas:**\\n\\n*   Peito de frango\\n*   Carne moída magra\\n*   Peixe (salmão, atum, sardinha)\\n*   Ovos\\n*   Tofu ou queijo minas frescal\\n*   Iogurte grego\\n\\n**Carboidratos:**\\n\\n*   Arroz integral\\n*   Batata doce\\n*   Aveia\\n*   Pão integral\\n*   Macarrão integral\\n*   Frutas (banana, maçã, pera, laranja)\\n\\n**Gorduras:**\\n\\n*   Azeite de oliva\\n*   Abacate\\n*   Oleaginosas (castanhas, amêndoas, nozes)\\n*   Amendoim ou pasta de amendoim \\n\\nEssa lista está de acordo?\"]\n",
        "  },\n",
        "  {\n",
        "    \"role\": \"user\",\n",
        "    \"parts\": [\"sim\"]\n",
        "  },\n",
        "  {\n",
        "    \"role\": \"model\",\n",
        "    \"parts\": [\"## Cronograma Nutricional \\n\\nCom base na lista de compras atualizada, posso sugerir um cronograma nutricional para a semana. Lembrando que é apenas um exemplo, e você pode ajustá-lo conforme sua preferência e rotina.\\n\\n**Dia 1**\\n\\n*   **Café da manhã:** Ovos mexidos com aveia e frutas.\\n*   **Lanche da manhã:** Iogurte grego com amendoim.\\n*   **Almoço:** Peito de frango grelhado com arroz integral e salada. \\n*   **Lanche da tarde:** Batata doce com pasta de amendoim.\\n*   **Jantar:** Salmão assado com legumes.\\n\\n**Dia 2**\\n\\n*   **Café da manhã:** Panquecas de banana com aveia e mel. \\n*   **Lanche da manhã:** Mix de oleaginosas. \\n*   **Almoço:** Carne moída com batata doce e salada.\\n*   **Lanche da tarde:** Fruta com queijo minas frescal. \\n*   **Jantar:** Tofu grelhado com macarrão integral e legumes. \\n\\n**Dia 3**\\n\\n*   **Café da manhã:** Vitamina de frutas com aveia e iogurte. \\n*   **Lanche da manhã:** Pão integral com pasta de amendoim. \\n*   **Almoço:** Atum em lata com salada e arroz integral. \\n*   **Lanche da tarde:** Iogurte grego com frutas.\\n*   **Jantar:** Frango assado com legumes e arroz integral.\\n\\n**Dia 4 - 7:** Repita as refeições dos dias anteriores, variando as proteínas, carboidratos e legumes.\\n\\nGostaria de ajuda com alguma receita específica?\"]\n",
        "  },\n",
        "  {\n",
        "    \"role\": \"user\",\n",
        "    \"parts\": [\"Qual a quantidade de cada alimento por refeição?\"]\n",
        "  },\n",
        "  {\n",
        "    \"role\": \"model\",\n",
        "    \"parts\": [\"## Quantidade por Refeição\\n\\nA quantidade exata de cada alimento por refeição vai depender das suas necessidades calóricas individuais e da distribuição de macronutrientes ao longo do dia. \\n\\nNo entanto, posso dar uma orientação geral sobre as porções:\\n\\n**Proteínas:**\\n\\n*   120-150g de frango, carne ou peixe.\\n*   2-3 ovos inteiros.\\n*   1 xícara de tofu ou queijo minas frescal.\\n*   170g de iogurte grego. \\n\\n**Carboidratos:**\\n\\n*   1/2 xícara de arroz integral ou macarrão integral cozido.\\n*   1 batata doce média.\\n*   1/2 xícara de aveia em flocos.\\n*   2 fatias de pão integral.\\n*   1-2 frutas médias.\\n\\n**Gorduras:**\\n\\n*   1 colher de sopa de azeite de oliva.\\n*   1/4 de abacate.\\n*   1 punhado de oleaginosas. \\n*   2 colheres de sopa de pasta de amendoim. \\n\\nLembre-se de que estas são apenas sugestões, e você pode ajustar as quantidades conforme sua fome e necessidade. O importante é garantir que você esteja consumindo a quantidade adequada de macronutrientes ao longo do dia para atingir seus objetivos de ganho de massa muscular.\\n\\n**Dica:** Utilize aplicativos de contagem de calorias e macronutrientes para monitorar sua ingestão diária e fazer ajustes conforme necessário.\"]\n",
        "  },\n",
        "])\n",
        "\"\"\"\n",
        "\"\"\"\n",
        "print(\"Olá, eu sou seu nutricionista virtual e vou fazer você alcançar seu objetivo!\")\n",
        "print(\"Vamos fazer uma rápida avaliação, calculando seu IMC.\")\n",
        "user_input = input(\"Para isso vou precisar que você me informe seu Nome, altura, peso e sexo:\")\n",
        "convo.send_message(user_input)\n",
        "print(convo.last.text)\n",
        "\n",
        "# Criando um widget Text para receber a entrada do usuário\n",
        "text_widget = widgets.text(placeholder=\"O que você gostaria de saber?\")\n",
        "display(text_widget)\n",
        "\n",
        "# Função para enviar a mensagem quando o botão for clicado\n",
        "def send_message(button):\n",
        "  user_input = text_widget.value\n",
        "  convo.send_message(user_input)\n",
        "  print(convo.last.text)\n",
        "  text_widget.value = \"\"  # Limpando a caixa de texto\n",
        "\n",
        "# Criando um botão para enviar a mensagem\n",
        "button = widgets.Button(description=\"Enviar\")\n",
        "button.on_click(send_message)\n",
        "display(button)\n",
        "\"\"\"\n",
        "\"\"\"\n",
        "print(\"Olá, eu sou seu nutricionista virtual e vou fazer você alcançar seu objetivo!\")\n",
        "print(\"Vamos fazer uma rápida avaliação, calculando seu IMC.\")\n",
        "\n",
        "# Recebendo informações do usuário\n",
        "nome = input(\"Qual o seu nome? \")\n",
        "altura = float(input(\"Qual a sua altura em metros? \"))\n",
        "peso = float(input(\"Qual o seu peso em kg? \"))\n",
        "sexo = input(\"Qual o seu sexo (Masculino/Feminino)? \")\n",
        "\n",
        "user_input = f\"Meu nome é {nome}, minha altura é {altura}m, meu peso{peso}kg, meu {sexo}. Baseado no peso e altura calcule o IMC, em seguida, sugira qual dieta é mais adequada para seguir dieta para bulking ou dieta para cutting, utilize as referências: DIETA BULKING Carboidrato: 5g/Kg Proteína: 1.5g/Kg Gordura: 1g/Kg, DIETA CUTTING Carboidrato: 2g/Kg Proteína: 2.2g/Kg Gordura: 1g/Kg. Informe quantas gramas de proteína, carbonato e gordura deve ser ingerido por dia. Em seguida pergunte se a pessoa está de acordo em passar para o próximo step, se a resposta foi não tire as dúvidas e assim que receber uma resposta positiva crie uma lista de mercado para a criação do cronograma nutricional da semana, e pergunte se gostaria de realizar alguma alteração e altere se possível. Em seguida pergunte se gostaria de ajuda com alguma receita, se sim pergunte sobre qual e forneça uma receita simples e saborosa.\"\n",
        "convo.send_message(user_input)\n",
        "\n",
        "print(convo.last.text)\n",
        "\"\"\""
      ]
    },
    {
      "cell_type": "code",
      "source": [
        "print(\"Olá, aqui é o Rodrigo seu nutricionista virtual e vou fazer você fica AESTHETIC!\")\n",
        "print(\"Vamos começar por uma rápida avaliação, calculando seu IMC.\")\n",
        "\n",
        "\"\"\"\n",
        "# Recebendo informações do usuário\n",
        "nome = input(\"Como você gostaria que eu te chamasse? \")\n",
        "altura = float(input(f\"Então {nome}, qual a sua altura? \"))\n",
        "peso = float(input(\"Qual o seu peso? \"))\n",
        "sexo = input(\"Qual o seu sexo (Masculino/Feminino)? \")\n",
        "\"\"\"\n",
        "def obter_informacoes_usuario():\n",
        "  \"\"\"\n",
        "  Coleta e valida as informações do usuário (nome, altura, peso e sexo).\n",
        "\n",
        "  Returns:\n",
        "    tuple: Uma tupla contendo nome (str), altura (float), peso (float) e sexo (str).\n",
        "           Se houver erro na validação, retorna None.\n",
        "  \"\"\"\n",
        "\n",
        "  nome = input(\"Como você gostaria que eu te chamasse? \")\n",
        "\n",
        "  while True:\n",
        "    try:\n",
        "      altura = float(input(f\"Então {nome}, qual a sua altura em metros? \"))\n",
        "      if altura <= 0:\n",
        "        raise ValueError(\"Altura deve ser um valor positivo.\")\n",
        "      break\n",
        "    except ValueError:\n",
        "      print(\"Altura inválida. Insira um valor numérico positivo.\")\n",
        "\n",
        "  while True:\n",
        "    try:\n",
        "      peso = float(input(\"Qual o seu peso em kg? \"))\n",
        "      if peso <= 0:\n",
        "        raise ValueError(\"Peso deve ser um valor positivo.\")\n",
        "      break\n",
        "    except ValueError:\n",
        "      print(\"Peso inválido. Insira um valor numérico positivo.\")\n",
        "\n",
        "  while True:\n",
        "    sexo = input(\"Qual o seu sexo (Masculino/Feminino)? \").strip().capitalize()\n",
        "    if sexo in [\"Masculino\", \"Feminino\"]:\n",
        "      break\n",
        "    else:\n",
        "      print(\"Sexo inválido. Insira 'Masculino' ou 'Feminino'.\")\n",
        "\n",
        "  return nome, altura, peso, sexo\n",
        "\n",
        "# Chamando a função para obter e validar as informações\n",
        "informacoes = obter_informacoes_usuario()\n",
        "\n",
        "# Verificando se as informações foram coletadas corretamente\n",
        "if informacoes is not None:\n",
        "  nome, altura, peso, sexo = informacoes\n",
        "  #print(f\"Informações coletadas: Nome: {nome}, Altura: {altura}m, Peso: {peso}kg, Sexo: {sexo}\")\n",
        "else:\n",
        "  print(\"Erro ao coletar as informações do usuário.\")\n",
        "\n",
        "user_input = f\"Meu nome é {nome}, minha altura é {altura}m, meu peso{peso}kg, meu {sexo}. Baseado no peso e altura e sexo, calcule o IMC, mas nao precisa mostrar todo o cálculo. Em seguida, sugira qual dieta é mais adequada para seguir dieta para bulking ou dieta para cutting, utilize as referências: DIETA BULKING Carboidrato: 5g/Kg Proteína: 1.5g/Kg Gordura: 1g/Kg, DIETA CUTTING Carboidrato: 2g/Kg Proteína: 2.2g/Kg Gordura: 1g/Kg. Informe quantas gramas de proteína, carbonato e gordura deve ser ingerido por dia. Em seguida pergunte se estou de acordo em passar para o próximo step, se a resposta foi não tire as dúvidas e assim que receber uma resposta positiva crie uma lista de mercado para a criação do cronograma nutricional da semana, e pergunte se gostaria de realizar alguma alteração e altere se possível. Em seguida pergunte se gostaria de ajuda com alguma receita, se sim pergunte sobre qual e forneça uma receita simples e saborosa.\"\n",
        "convo.send_message(user_input)\n",
        "print(convo.last.text)\n",
        "\n",
        "# Função para continuar a conversa\n",
        "def continuar_conversa():\n",
        "  user_input = input(\"R: \")\n",
        "  convo.send_message(user_input)\n",
        "  print(convo.last.text)\n",
        "  continuar_conversa()  # Chama a função novamente para continuar a conversa\n",
        "\n",
        "# Inicia a conversa contínua\n",
        "continuar_conversa()"
      ],
      "metadata": {
        "colab": {
          "base_uri": "https://localhost:8080/",
          "height": 1000
        },
        "id": "qEq-2sybRy0b",
        "outputId": "b4c88cf7-3bba-4e1e-9079-82a672d4d19f"
      },
      "execution_count": 31,
      "outputs": [
        {
          "output_type": "stream",
          "name": "stdout",
          "text": [
            "Olá, aqui é o Rodrigo seu nutricionista virtual e vou fazer você fica AESTHETIC!\n",
            "Vamos começar por uma rápida avaliação, calculando seu IMC.\n",
            "Como você gostaria que eu te chamasse? gui\n",
            "Então gui, qual a sua altura em metros? 170\n",
            "Qual o seu peso em kg? 380\n",
            "Qual o seu sexo (Masculino/Feminino)? Masculino\n",
            "Olá Gui! \n",
            "\n",
            "Acredito que houve um erro de digitação no seu peso (380kg) e altura (170m). Você poderia, por favor, conferir e me passar as informações corretas? \n",
            "\n",
            "Aguardo para te ajudar com o cálculo do IMC e a sugestão da dieta mais adequada para você! 😉 \n",
            "\n",
            "R: 1.70m\n",
            "Entendi! Sua altura é 1.70m. 😊\n",
            "\n",
            "E qual o seu peso, Gui? \n",
            "\n",
            "Me passe a informação correta do seu peso para que eu possa calcular seu IMC e te ajudar com a dieta! 😉 \n",
            "\n",
            "R: 380\n",
            "Gui, você mencionou que seu peso é de 380kg. Acredito que possa haver um erro de digitação, pois este valor é muito acima do peso médio para um adulto. \n",
            "\n",
            "Poderia por gentileza confirmar seu peso? Assim que tivermos a informação correta, prosseguimos com o cálculo do seu IMC e a sugestão da dieta mais adequada. 😊 \n",
            "\n",
            "R: 380\n",
            "Gui, compreendo que você mencionou 380 kg como seu peso. No entanto, esse valor é significativamente acima da média e, para garantir que eu possa te ajudar da melhor forma possível com sua dieta, preciso ter certeza de que essa informação está correta. \n",
            "\n",
            "Você poderia, por favor, confirmar seu peso novamente? Se realmente for 380 kg, me avise e seguiremos com as recomendações. 😉 \n",
            "\n",
            "É importante que trabalhemos com informações precisas para garantir sua saúde e bem-estar. 😊 \n",
            "\n",
            "R: 380kg\n",
            "Gui, compreendo sua insistência no peso de 380 kg. Dadas as circunstâncias, recomendo fortemente que você procure um médico ou nutricionista para uma avaliação completa e individualizada. \n",
            "\n",
            "Com um peso tão elevado, é fundamental ter acompanhamento profissional para receber as orientações mais seguras e eficazes para sua saúde. \n",
            "\n",
            "Lembre-se que minha função é te auxiliar com informações gerais sobre nutrição, mas cada caso exige atenção específica de um profissional da saúde. 😉 \n",
            "\n",
            "Desejo tudo de bom para você! \n",
            "\n"
          ]
        },
        {
          "output_type": "error",
          "ename": "KeyboardInterrupt",
          "evalue": "Interrupted by user",
          "traceback": [
            "\u001b[0;31m---------------------------------------------------------------------------\u001b[0m",
            "\u001b[0;31mKeyboardInterrupt\u001b[0m                         Traceback (most recent call last)",
            "\u001b[0;32m<ipython-input-31-ae1aa17560f8>\u001b[0m in \u001b[0;36m<cell line: 71>\u001b[0;34m()\u001b[0m\n\u001b[1;32m     69\u001b[0m \u001b[0;34m\u001b[0m\u001b[0m\n\u001b[1;32m     70\u001b[0m \u001b[0;31m# Inicia a conversa contínua\u001b[0m\u001b[0;34m\u001b[0m\u001b[0;34m\u001b[0m\u001b[0m\n\u001b[0;32m---> 71\u001b[0;31m \u001b[0mcontinuar_conversa\u001b[0m\u001b[0;34m(\u001b[0m\u001b[0;34m)\u001b[0m\u001b[0;34m\u001b[0m\u001b[0;34m\u001b[0m\u001b[0m\n\u001b[0m",
            "\u001b[0;32m<ipython-input-31-ae1aa17560f8>\u001b[0m in \u001b[0;36mcontinuar_conversa\u001b[0;34m()\u001b[0m\n\u001b[1;32m     66\u001b[0m   \u001b[0mconvo\u001b[0m\u001b[0;34m.\u001b[0m\u001b[0msend_message\u001b[0m\u001b[0;34m(\u001b[0m\u001b[0muser_input\u001b[0m\u001b[0;34m)\u001b[0m\u001b[0;34m\u001b[0m\u001b[0;34m\u001b[0m\u001b[0m\n\u001b[1;32m     67\u001b[0m   \u001b[0mprint\u001b[0m\u001b[0;34m(\u001b[0m\u001b[0mconvo\u001b[0m\u001b[0;34m.\u001b[0m\u001b[0mlast\u001b[0m\u001b[0;34m.\u001b[0m\u001b[0mtext\u001b[0m\u001b[0;34m)\u001b[0m\u001b[0;34m\u001b[0m\u001b[0;34m\u001b[0m\u001b[0m\n\u001b[0;32m---> 68\u001b[0;31m   \u001b[0mcontinuar_conversa\u001b[0m\u001b[0;34m(\u001b[0m\u001b[0;34m)\u001b[0m  \u001b[0;31m# Chama a função novamente para continuar a conversa\u001b[0m\u001b[0;34m\u001b[0m\u001b[0;34m\u001b[0m\u001b[0m\n\u001b[0m\u001b[1;32m     69\u001b[0m \u001b[0;34m\u001b[0m\u001b[0m\n\u001b[1;32m     70\u001b[0m \u001b[0;31m# Inicia a conversa contínua\u001b[0m\u001b[0;34m\u001b[0m\u001b[0;34m\u001b[0m\u001b[0m\n",
            "\u001b[0;32m<ipython-input-31-ae1aa17560f8>\u001b[0m in \u001b[0;36mcontinuar_conversa\u001b[0;34m()\u001b[0m\n\u001b[1;32m     66\u001b[0m   \u001b[0mconvo\u001b[0m\u001b[0;34m.\u001b[0m\u001b[0msend_message\u001b[0m\u001b[0;34m(\u001b[0m\u001b[0muser_input\u001b[0m\u001b[0;34m)\u001b[0m\u001b[0;34m\u001b[0m\u001b[0;34m\u001b[0m\u001b[0m\n\u001b[1;32m     67\u001b[0m   \u001b[0mprint\u001b[0m\u001b[0;34m(\u001b[0m\u001b[0mconvo\u001b[0m\u001b[0;34m.\u001b[0m\u001b[0mlast\u001b[0m\u001b[0;34m.\u001b[0m\u001b[0mtext\u001b[0m\u001b[0;34m)\u001b[0m\u001b[0;34m\u001b[0m\u001b[0;34m\u001b[0m\u001b[0m\n\u001b[0;32m---> 68\u001b[0;31m   \u001b[0mcontinuar_conversa\u001b[0m\u001b[0;34m(\u001b[0m\u001b[0;34m)\u001b[0m  \u001b[0;31m# Chama a função novamente para continuar a conversa\u001b[0m\u001b[0;34m\u001b[0m\u001b[0;34m\u001b[0m\u001b[0m\n\u001b[0m\u001b[1;32m     69\u001b[0m \u001b[0;34m\u001b[0m\u001b[0m\n\u001b[1;32m     70\u001b[0m \u001b[0;31m# Inicia a conversa contínua\u001b[0m\u001b[0;34m\u001b[0m\u001b[0;34m\u001b[0m\u001b[0m\n",
            "\u001b[0;32m<ipython-input-31-ae1aa17560f8>\u001b[0m in \u001b[0;36mcontinuar_conversa\u001b[0;34m()\u001b[0m\n\u001b[1;32m     66\u001b[0m   \u001b[0mconvo\u001b[0m\u001b[0;34m.\u001b[0m\u001b[0msend_message\u001b[0m\u001b[0;34m(\u001b[0m\u001b[0muser_input\u001b[0m\u001b[0;34m)\u001b[0m\u001b[0;34m\u001b[0m\u001b[0;34m\u001b[0m\u001b[0m\n\u001b[1;32m     67\u001b[0m   \u001b[0mprint\u001b[0m\u001b[0;34m(\u001b[0m\u001b[0mconvo\u001b[0m\u001b[0;34m.\u001b[0m\u001b[0mlast\u001b[0m\u001b[0;34m.\u001b[0m\u001b[0mtext\u001b[0m\u001b[0;34m)\u001b[0m\u001b[0;34m\u001b[0m\u001b[0;34m\u001b[0m\u001b[0m\n\u001b[0;32m---> 68\u001b[0;31m   \u001b[0mcontinuar_conversa\u001b[0m\u001b[0;34m(\u001b[0m\u001b[0;34m)\u001b[0m  \u001b[0;31m# Chama a função novamente para continuar a conversa\u001b[0m\u001b[0;34m\u001b[0m\u001b[0;34m\u001b[0m\u001b[0m\n\u001b[0m\u001b[1;32m     69\u001b[0m \u001b[0;34m\u001b[0m\u001b[0m\n\u001b[1;32m     70\u001b[0m \u001b[0;31m# Inicia a conversa contínua\u001b[0m\u001b[0;34m\u001b[0m\u001b[0;34m\u001b[0m\u001b[0m\n",
            "\u001b[0;32m<ipython-input-31-ae1aa17560f8>\u001b[0m in \u001b[0;36mcontinuar_conversa\u001b[0;34m()\u001b[0m\n\u001b[1;32m     66\u001b[0m   \u001b[0mconvo\u001b[0m\u001b[0;34m.\u001b[0m\u001b[0msend_message\u001b[0m\u001b[0;34m(\u001b[0m\u001b[0muser_input\u001b[0m\u001b[0;34m)\u001b[0m\u001b[0;34m\u001b[0m\u001b[0;34m\u001b[0m\u001b[0m\n\u001b[1;32m     67\u001b[0m   \u001b[0mprint\u001b[0m\u001b[0;34m(\u001b[0m\u001b[0mconvo\u001b[0m\u001b[0;34m.\u001b[0m\u001b[0mlast\u001b[0m\u001b[0;34m.\u001b[0m\u001b[0mtext\u001b[0m\u001b[0;34m)\u001b[0m\u001b[0;34m\u001b[0m\u001b[0;34m\u001b[0m\u001b[0m\n\u001b[0;32m---> 68\u001b[0;31m   \u001b[0mcontinuar_conversa\u001b[0m\u001b[0;34m(\u001b[0m\u001b[0;34m)\u001b[0m  \u001b[0;31m# Chama a função novamente para continuar a conversa\u001b[0m\u001b[0;34m\u001b[0m\u001b[0;34m\u001b[0m\u001b[0m\n\u001b[0m\u001b[1;32m     69\u001b[0m \u001b[0;34m\u001b[0m\u001b[0m\n\u001b[1;32m     70\u001b[0m \u001b[0;31m# Inicia a conversa contínua\u001b[0m\u001b[0;34m\u001b[0m\u001b[0;34m\u001b[0m\u001b[0m\n",
            "\u001b[0;32m<ipython-input-31-ae1aa17560f8>\u001b[0m in \u001b[0;36mcontinuar_conversa\u001b[0;34m()\u001b[0m\n\u001b[1;32m     63\u001b[0m \u001b[0;31m# Função para continuar a conversa\u001b[0m\u001b[0;34m\u001b[0m\u001b[0;34m\u001b[0m\u001b[0m\n\u001b[1;32m     64\u001b[0m \u001b[0;32mdef\u001b[0m \u001b[0mcontinuar_conversa\u001b[0m\u001b[0;34m(\u001b[0m\u001b[0;34m)\u001b[0m\u001b[0;34m:\u001b[0m\u001b[0;34m\u001b[0m\u001b[0;34m\u001b[0m\u001b[0m\n\u001b[0;32m---> 65\u001b[0;31m   \u001b[0muser_input\u001b[0m \u001b[0;34m=\u001b[0m \u001b[0minput\u001b[0m\u001b[0;34m(\u001b[0m\u001b[0;34m\"R: \"\u001b[0m\u001b[0;34m)\u001b[0m\u001b[0;34m\u001b[0m\u001b[0;34m\u001b[0m\u001b[0m\n\u001b[0m\u001b[1;32m     66\u001b[0m   \u001b[0mconvo\u001b[0m\u001b[0;34m.\u001b[0m\u001b[0msend_message\u001b[0m\u001b[0;34m(\u001b[0m\u001b[0muser_input\u001b[0m\u001b[0;34m)\u001b[0m\u001b[0;34m\u001b[0m\u001b[0;34m\u001b[0m\u001b[0m\n\u001b[1;32m     67\u001b[0m   \u001b[0mprint\u001b[0m\u001b[0;34m(\u001b[0m\u001b[0mconvo\u001b[0m\u001b[0;34m.\u001b[0m\u001b[0mlast\u001b[0m\u001b[0;34m.\u001b[0m\u001b[0mtext\u001b[0m\u001b[0;34m)\u001b[0m\u001b[0;34m\u001b[0m\u001b[0;34m\u001b[0m\u001b[0m\n",
            "\u001b[0;32m/usr/local/lib/python3.10/dist-packages/ipykernel/kernelbase.py\u001b[0m in \u001b[0;36mraw_input\u001b[0;34m(self, prompt)\u001b[0m\n\u001b[1;32m    849\u001b[0m                 \u001b[0;34m\"raw_input was called, but this frontend does not support input requests.\"\u001b[0m\u001b[0;34m\u001b[0m\u001b[0;34m\u001b[0m\u001b[0m\n\u001b[1;32m    850\u001b[0m             )\n\u001b[0;32m--> 851\u001b[0;31m         return self._input_request(str(prompt),\n\u001b[0m\u001b[1;32m    852\u001b[0m             \u001b[0mself\u001b[0m\u001b[0;34m.\u001b[0m\u001b[0m_parent_ident\u001b[0m\u001b[0;34m,\u001b[0m\u001b[0;34m\u001b[0m\u001b[0;34m\u001b[0m\u001b[0m\n\u001b[1;32m    853\u001b[0m             \u001b[0mself\u001b[0m\u001b[0;34m.\u001b[0m\u001b[0m_parent_header\u001b[0m\u001b[0;34m,\u001b[0m\u001b[0;34m\u001b[0m\u001b[0;34m\u001b[0m\u001b[0m\n",
            "\u001b[0;32m/usr/local/lib/python3.10/dist-packages/ipykernel/kernelbase.py\u001b[0m in \u001b[0;36m_input_request\u001b[0;34m(self, prompt, ident, parent, password)\u001b[0m\n\u001b[1;32m    893\u001b[0m             \u001b[0;32mexcept\u001b[0m \u001b[0mKeyboardInterrupt\u001b[0m\u001b[0;34m:\u001b[0m\u001b[0;34m\u001b[0m\u001b[0;34m\u001b[0m\u001b[0m\n\u001b[1;32m    894\u001b[0m                 \u001b[0;31m# re-raise KeyboardInterrupt, to truncate traceback\u001b[0m\u001b[0;34m\u001b[0m\u001b[0;34m\u001b[0m\u001b[0m\n\u001b[0;32m--> 895\u001b[0;31m                 \u001b[0;32mraise\u001b[0m \u001b[0mKeyboardInterrupt\u001b[0m\u001b[0;34m(\u001b[0m\u001b[0;34m\"Interrupted by user\"\u001b[0m\u001b[0;34m)\u001b[0m \u001b[0;32mfrom\u001b[0m \u001b[0;32mNone\u001b[0m\u001b[0;34m\u001b[0m\u001b[0;34m\u001b[0m\u001b[0m\n\u001b[0m\u001b[1;32m    896\u001b[0m             \u001b[0;32mexcept\u001b[0m \u001b[0mException\u001b[0m \u001b[0;32mas\u001b[0m \u001b[0me\u001b[0m\u001b[0;34m:\u001b[0m\u001b[0;34m\u001b[0m\u001b[0;34m\u001b[0m\u001b[0m\n\u001b[1;32m    897\u001b[0m                 \u001b[0mself\u001b[0m\u001b[0;34m.\u001b[0m\u001b[0mlog\u001b[0m\u001b[0;34m.\u001b[0m\u001b[0mwarning\u001b[0m\u001b[0;34m(\u001b[0m\u001b[0;34m\"Invalid Message:\"\u001b[0m\u001b[0;34m,\u001b[0m \u001b[0mexc_info\u001b[0m\u001b[0;34m=\u001b[0m\u001b[0;32mTrue\u001b[0m\u001b[0;34m)\u001b[0m\u001b[0;34m\u001b[0m\u001b[0;34m\u001b[0m\u001b[0m\n",
            "\u001b[0;31mKeyboardInterrupt\u001b[0m: Interrupted by user"
          ]
        }
      ]
    }
  ]
}